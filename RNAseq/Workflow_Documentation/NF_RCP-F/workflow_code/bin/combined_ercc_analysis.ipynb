{
 "cells": [
  {
   "cell_type": "markdown",
   "metadata": {},
   "source": [
    "# Step 1: Evaluate ERCC Count Data in Python"
   ]
  },
  {
   "cell_type": "code",
   "execution_count": null,
   "metadata": {},
   "outputs": [],
   "source": [
    "# import python packages\n",
    "import pandas as pd\n",
    "pd.set_option('mode.chained_assignment', None) # suppress chained indexing warnings\n",
    "import numpy as np\n",
    "from json import loads\n",
    "from re import search\n",
    "import zipfile\n",
    "import seaborn as sns\n",
    "from scipy.stats import linregress\n",
    "import matplotlib.pyplot as plt\n",
    "\n",
    "### Get and parse data and metadata\n",
    "\n",
    "# Get and unzip ISA.zip to extract metadata.\n",
    "\n",
    "accession = 'GLDS-NNN' # Replace Ns with GLDS number\n",
    "isaPath = '/path/to/GLDS-NNN_metadata_GLDS-NNN-ISA.zip' # Replace with path to ISA archive file\n",
    "zip_file_object =  zipfile.ZipFile(isaPath, \"r\")\n",
    "list_of_ISA_files = zip_file_object.namelist() # Print contents of zip file. Pick relevant one from list\n",
    "UnnormalizedCountsPath = '/path/to/GLDS-NNN_rna_seq_RSEM_Unnormalized_Counts_GLbulkRNAseq.csv'\n",
    "\n",
    "GENE_ID_PREFIX = \"ENSMU\" # change according to a common prefix for all Gene IDs associated with the subject organism"
   ]
  },
  {
   "cell_type": "code",
   "execution_count": null,
   "metadata": {},
   "outputs": [],
   "source": [
    "list_of_ISA_files"
   ]
  },
  {
   "cell_type": "code",
   "execution_count": null,
   "metadata": {},
   "outputs": [],
   "source": [
    "# There are datasets that have multiple assays (including microarray), so the RNAseq ISA files from the above output must be selected. \n",
    "# Txt files outputted above are indexed as 0, 1, 2, etc. Fill in the indexed number corresponding to the sample (s_*txt) and assay files for RNAseq (a_*_(RNA-Seq).txt) in the code block below.\n",
    "\n",
    "# Extract metadata from the sample file (s_*txt)\n",
    "sample_file = list_of_ISA_files[2] # replace [2] with index corresponding to the (s_*txt) file\n",
    "file = zip_file_object.open(sample_file)\n",
    "sample_table = pd.read_csv(zip_file_object.open(sample_file), sep='\\t')\n",
    "\n",
    "# Extract metadata from the assay (a_*_(RNA-Seq).txt) file\n",
    "assay_file = list_of_ISA_files[0] # replace [0] with index corresponding to the (a_*_(RNA-Seq).txt) file\n",
    "file = zip_file_object.open(assay_file)\n",
    "assay_table = pd.read_csv(zip_file_object.open(assay_file), sep='\\t')\n",
    "\n",
    "# Check the sample table\n",
    "pd.set_option('display.max_columns', None)\n",
    "print(sample_table.head(n=3))\n",
    "\n",
    "# Check the assay table\n",
    "pd.set_option('display.max_columns', None)\n",
    "assay_table.head(n=3)"
   ]
  },
  {
   "cell_type": "markdown",
   "metadata": {},
   "source": [
    "### Get raw counts table"
   ]
  },
  {
   "cell_type": "code",
   "execution_count": null,
   "metadata": {},
   "outputs": [],
   "source": [
    "raw_counts_table = pd.read_csv(UnnormalizedCountsPath, index_col=0) \n",
    "raw_counts_table.index.rename('Gene_ID', inplace=True)\n",
    "print(raw_counts_table.head(n=3))\n",
    "\n",
    "raw_counts_transcripts = raw_counts_table[raw_counts_table.index.str.contains(f\"^{GENE_ID_PREFIX}\")]\n",
    "assert len(raw_counts_transcripts) != 0, f\"Looks like {GENE_ID_PREFIX} matched no genes, probably the wrong prefix\"\n",
    "raw_counts_transcripts = raw_counts_transcripts.sort_values(by=list(raw_counts_transcripts), ascending=False)\n",
    "print(raw_counts_transcripts)"
   ]
  },
  {
   "cell_type": "markdown",
   "metadata": {},
   "source": [
    "### Get ERCC counts"
   ]
  },
  {
   "cell_type": "code",
   "execution_count": null,
   "metadata": {},
   "outputs": [],
   "source": [
    "ercc_counts = raw_counts_table[raw_counts_table.index.str.contains('^ERCC-')] \n",
    "ercc_counts.reset_index(inplace=True)\n",
    "ercc_counts = ercc_counts.rename(columns={'Gene_ID':'ERCC ID'})\n",
    "ercc_counts = ercc_counts.sort_values(by=list(ercc_counts), ascending=False)\n",
    "print(ercc_counts.head())"
   ]
  },
  {
   "cell_type": "markdown",
   "metadata": {},
   "source": [
    "### Get files containing ERCC gene concentrations and metadata"
   ]
  },
  {
   "cell_type": "code",
   "execution_count": null,
   "metadata": {},
   "outputs": [],
   "source": [
    "ercc_url = 'https://assets.thermofisher.com/TFS-Assets/LSG/manuals/cms_095046.txt'\n",
    "ercc_table = pd.read_csv(ercc_url, sep = '\\t')\n",
    "print(ercc_table.head(n=3))"
   ]
  },
  {
   "cell_type": "markdown",
   "metadata": {},
   "source": [
    "## Calculate the number of ERCC genes detected in each of the 4 (A, B, C and D) groups for each sample\n",
    "### Extract ERCC counts and calculate the log(2)\n"
   ]
  },
  {
   "cell_type": "code",
   "execution_count": null,
   "metadata": {},
   "outputs": [],
   "source": [
    "meltERCC = ercc_counts.melt(id_vars=['ERCC ID'])\n",
    "meltERCC['log2 Count'] = meltERCC['value']+1\n",
    "meltERCC['log2 Count'] = np.log2(meltERCC['log2 Count'])\n",
    "meltERCC = meltERCC.rename(columns={'variable':'Sample Name', 'value':'Count'})\n",
    "print(meltERCC.head(n=3))"
   ]
  },
  {
   "cell_type": "markdown",
   "metadata": {},
   "source": [
    "### Build Mix dictionary to link sample name to mix added and read depth using the assay table\n"
   ]
  },
  {
   "cell_type": "code",
   "execution_count": null,
   "metadata": {},
   "outputs": [],
   "source": [
    "mix_dict = assay_table.filter(['Sample Name','Parameter Value[Spike-in Mix Number]', \n",
    "                       'Parameter Value[Read Depth]'])\n",
    "mix_dict = mix_dict.rename(columns={'Parameter Value[Spike-in Mix Number]':'Mix',\n",
    "                                    'Parameter Value[Read Depth]':\n",
    "                                    'Total Reads'})\n",
    "print(mix_dict.head(n=3))"
   ]
  },
  {
   "cell_type": "markdown",
   "metadata": {},
   "source": [
    "### Make combined ercc counts and assay table\n"
   ]
  },
  {
   "cell_type": "code",
   "execution_count": null,
   "metadata": {},
   "outputs": [],
   "source": [
    "merged_ercc = meltERCC.merge(mix_dict, on='Sample Name')\n",
    "print(merged_ercc)\n"
   ]
  },
  {
   "cell_type": "markdown",
   "metadata": {},
   "source": [
    "### Read ERCC info including concentrations from merged_ercc table"
   ]
  },
  {
   "cell_type": "code",
   "execution_count": null,
   "metadata": {},
   "outputs": [],
   "source": [
    "groupA = ercc_table.loc[ercc_table['subgroup'] == 'A']['ERCC ID']\n",
    "groupB = ercc_table.loc[ercc_table['subgroup'] == 'B']['ERCC ID']\n",
    "groupC = ercc_table.loc[ercc_table['subgroup'] == 'C']['ERCC ID']\n",
    "groupD = ercc_table.loc[ercc_table['subgroup'] == 'D']['ERCC ID']"
   ]
  },
  {
   "cell_type": "markdown",
   "metadata": {},
   "source": [
    "### Make a dictionary for ERCC groups"
   ]
  },
  {
   "cell_type": "code",
   "execution_count": null,
   "metadata": {},
   "outputs": [],
   "source": [
    "group_dict = dict(zip(ercc_table['ERCC ID'], ercc_table['subgroup']))"
   ]
  },
  {
   "cell_type": "markdown",
   "metadata": {},
   "source": [
    "### Calculate ERCC counts per million and log(2) counts per million"
   ]
  },
  {
   "cell_type": "code",
   "execution_count": null,
   "metadata": {},
   "outputs": [],
   "source": [
    "merged_ercc['Count per million'] = merged_ercc['Count'] / (merged_ercc['Total Reads'] / 1000000.0)\n",
    "merged_ercc['log2 Count per million'] = np.log2(merged_ercc['Count per million']+1)"
   ]
  },
  {
   "cell_type": "markdown",
   "metadata": {},
   "source": [
    "### Add ERCC group column"
   ]
  },
  {
   "cell_type": "code",
   "execution_count": null,
   "metadata": {},
   "outputs": [],
   "source": [
    "merged_ercc['ERCC group'] = merged_ercc['ERCC ID'].map(group_dict)\n",
    "merged_ercc = merged_ercc.sort_values(by=['Mix'], ascending=True)\n",
    "print(merged_ercc)"
   ]
  },
  {
   "cell_type": "markdown",
   "metadata": {},
   "source": [
    "## Filter and calculate mean counts per million of Mix1 and Mix2 spiked samples in each of the 4 groups\n",
    "### Filter Mix1 CPM and Mix2 CPM in group A "
   ]
  },
  {
   "cell_type": "code",
   "execution_count": null,
   "metadata": {},
   "outputs": [],
   "source": [
    "Adf = merged_ercc.loc[merged_ercc['ERCC group'] == 'A']\n",
    "Amix1df = Adf.loc[Adf['Mix']=='Mix 1']\n",
    "Amix1df['Mix1 CPM'] = Amix1df[Amix1df['Count per million'] > 0]['Count per million'].dropna()\n",
    "Amix1df = Amix1df.groupby('ERCC ID')['Mix1 CPM'].agg(np.mean).rename('Avg Mix1 CPM')\n",
    "Amix1df = Amix1df.to_frame()\n",
    "Amix2df = Adf.loc[Adf['Mix']=='Mix 2']\n",
    "Amix2df['Mix2 CPM'] = Amix2df[Amix2df['Count per million'] > 0]['Count per million'].dropna()\n",
    "Amix2df = Amix2df.groupby('ERCC ID')['Mix2 CPM'].agg(np.mean).rename('Avg Mix2 CPM')\n",
    "Amix2df = Amix2df.to_frame()\n",
    "\n",
    "adf = Amix1df.merge(Amix2df, on='ERCC ID', suffixes=('', '_2'))\n",
    "adf = adf.reset_index()\n",
    "adf['Avg Mix1 CPM/ Avg Mix2 CPM'] = (adf['Avg Mix1 CPM'] / adf['Avg Mix2 CPM'])"
   ]
  },
  {
   "cell_type": "markdown",
   "metadata": {},
   "source": [
    "### Filter Mix1 CPM and Mix2 CPM in group B"
   ]
  },
  {
   "cell_type": "code",
   "execution_count": null,
   "metadata": {},
   "outputs": [],
   "source": [
    "Bdf = merged_ercc.loc[merged_ercc['ERCC group'] == 'B']\n",
    "Bmix1df = Bdf.loc[Bdf['Mix']=='Mix 1']\n",
    "Bmix1df['Mix1 CPM'] = Bmix1df[Bmix1df['Count per million'] > 0]['Count per million'].dropna()\n",
    "Bmix1df = Bmix1df.groupby('ERCC ID')['Mix1 CPM'].agg(np.mean).rename('Avg Mix1 CPM')\n",
    "Bmix1df = Bmix1df.to_frame()\n",
    "Bmix2df = Bdf.loc[Bdf['Mix']=='Mix 2']\n",
    "Bmix2df['Mix2 CPM'] = Bmix2df[Bmix2df['Count per million'] > 0]['Count per million'].dropna()\n",
    "Bmix2df = Bmix2df.groupby('ERCC ID')['Mix2 CPM'].agg(np.mean).rename('Avg Mix2 CPM')\n",
    "Bmix2df = Bmix2df.to_frame()\n",
    "\n",
    "bdf = Bmix1df.merge(Bmix2df, on='ERCC ID')\n",
    "bdf = bdf.reset_index()\n",
    "bdf['Avg Mix1 CPM/ Avg Mix2 CPM'] = (bdf['Avg Mix1 CPM'] / bdf['Avg Mix2 CPM'])"
   ]
  },
  {
   "cell_type": "markdown",
   "metadata": {},
   "source": [
    "### Filter Mix1 CPM and Mix2 CPM in group C"
   ]
  },
  {
   "cell_type": "code",
   "execution_count": null,
   "metadata": {},
   "outputs": [],
   "source": [
    "Cdf = merged_ercc.loc[merged_ercc['ERCC group'] == 'C']\n",
    "Cmix1df = Cdf.loc[Cdf['Mix']=='Mix 1']\n",
    "Cmix1df['Mix1 CPM'] = Cmix1df[Cmix1df['Count per million'] > 0]['Count per million'].dropna()\n",
    "Cmix1df = Cmix1df.groupby('ERCC ID')['Mix1 CPM'].agg(np.mean).rename('Avg Mix1 CPM')\n",
    "Cmix1df = Cmix1df.to_frame()\n",
    "Cmix2df = Cdf.loc[Cdf['Mix']=='Mix 2']\n",
    "Cmix2df['Mix2 CPM'] = Cmix2df[Cmix2df['Count per million'] > 0]['Count per million'].dropna()\n",
    "Cmix2df = Cmix2df.groupby('ERCC ID')['Mix2 CPM'].agg(np.mean).rename('Avg Mix2 CPM')\n",
    "Cmix2df = Cmix2df.to_frame()\n",
    "\n",
    "cdf = Cmix1df.merge(Cmix2df, on='ERCC ID')\n",
    "cdf = cdf.reset_index()\n",
    "cdf['Avg Mix1 CPM/ Avg Mix2 CPM'] = (cdf['Avg Mix1 CPM'] / cdf['Avg Mix2 CPM'])"
   ]
  },
  {
   "cell_type": "markdown",
   "metadata": {},
   "source": [
    "### Filter Mix1 CPM and Mix2 CPM in group D"
   ]
  },
  {
   "cell_type": "code",
   "execution_count": null,
   "metadata": {},
   "outputs": [],
   "source": [
    "Ddf = merged_ercc.loc[merged_ercc['ERCC group'] == 'D']\n",
    "Dmix1df = Ddf.loc[Ddf['Mix']=='Mix 1']\n",
    "Dmix1df['Mix1 CPM'] = Dmix1df[Dmix1df['Count per million'] > 0]['Count per million'].dropna()\n",
    "Dmix1df = Dmix1df.groupby('ERCC ID')['Mix1 CPM'].agg(np.mean).rename('Avg Mix1 CPM')\n",
    "Dmix1df = Dmix1df.to_frame()\n",
    "Dmix2df = Ddf.loc[Ddf['Mix']=='Mix 2']\n",
    "Dmix2df['Mix2 CPM'] = Dmix2df[Dmix2df['Count per million'] > 0]['Count per million'].dropna()\n",
    "Dmix2df = Dmix2df.groupby('ERCC ID')['Mix2 CPM'].agg(np.mean).rename('Avg Mix2 CPM')\n",
    "Dmix2df = Dmix2df.to_frame()\n",
    "\n",
    "ddf = Dmix1df.merge(Dmix2df, on='ERCC ID')\n",
    "ddf = ddf.reset_index()\n",
    "ddf['Avg Mix1 CPM/ Avg Mix2 CPM'] = (ddf['Avg Mix1 CPM'] / ddf['Avg Mix2 CPM'])"
   ]
  },
  {
   "cell_type": "markdown",
   "metadata": {},
   "source": [
    "## Multi-sample ERCC analyses\n",
    "### Create box and whisker plots of the log(2) CPM for each ERCC detected in group A in Mix 1 and Mix 2 spiked samples"
   ]
  },
  {
   "cell_type": "code",
   "execution_count": null,
   "metadata": {},
   "outputs": [],
   "source": [
    "a = sns.catplot(x=\"ERCC ID\", y=\"log2 Count per million\", order=groupA[::-1], hue=\"Mix\",data=merged_ercc[merged_ercc['ERCC ID'].isin(groupA)], kind=\"box\", col=\"ERCC group\", height=5, aspect=1, palette=sns.color_palette(['blue', 'orange']), showfliers=False)\n",
    "a.set_xticklabels(rotation=90)\n",
    "plt.text(23,2.5,\"Mix1/ Mix2 = 4\")"
   ]
  },
  {
   "cell_type": "markdown",
   "metadata": {},
   "source": [
    "### Create bar plot of the average Mix1 CPM / average Mix 2 CPM for group A ERCC genes (for group A we expect Mix 1 CPM / Mix 2 CPM = 4)"
   ]
  },
  {
   "cell_type": "code",
   "execution_count": null,
   "metadata": {},
   "outputs": [],
   "source": [
    "a1 = sns.catplot(x=\"ERCC ID\", y=\"Avg Mix1 CPM/ Avg Mix2 CPM\", order=groupA[::-1], palette=\"rocket_r\", data=adf, kind=\"bar\", height=5, aspect=1, linewidth=0.5)\n",
    "a1.set_xticklabels(rotation=90)\n",
    "plt.title(\"ERCC Group A\")\n",
    "a1.set(ylim=(0, 6))\n",
    "a1.set_axis_labels(\"ERCC genes ordered by concentration: low \\u2192 high\")\n",
    "print('Number of ERCC detected in group A (out of 23) =', adf['Avg Mix1 CPM/ Avg Mix2 CPM'].count())"
   ]
  },
  {
   "cell_type": "markdown",
   "metadata": {},
   "source": [
    "### Create box and whisker plots of the log(2) CPM for each ERCC detected in group B in Mix 1 and Mix 2 spiked samples"
   ]
  },
  {
   "cell_type": "code",
   "execution_count": null,
   "metadata": {},
   "outputs": [],
   "source": [
    "b = sns.catplot(x=\"ERCC ID\", y=\"log2 Count per million\", order=groupB[::-1], hue=\"Mix\", data=merged_ercc[merged_ercc['ERCC ID'].isin(groupB)], kind=\"box\", col=\"ERCC group\", height=5, aspect=1, palette=sns.color_palette(['blue', 'orange']), showfliers=False)\n",
    "b.set_xticklabels(rotation=90)\n",
    "plt.text(23,2.5,\"Mix1/ Mix2 = 1\")"
   ]
  },
  {
   "cell_type": "markdown",
   "metadata": {},
   "source": [
    "### Create bar plot of the average Mix1 CPM / average Mix 2 CPM for group B ERCC genes (for group B we expect Mix 1 CPM / Mix 2 CPM = 1)"
   ]
  },
  {
   "cell_type": "code",
   "execution_count": null,
   "metadata": {},
   "outputs": [],
   "source": [
    "b = sns.catplot(x=\"ERCC ID\", y=\"Avg Mix1 CPM/ Avg Mix2 CPM\", order=groupB[::-1], palette=\"rocket_r\", data=bdf, kind=\"bar\", \n",
    "               height=5, aspect=1, linewidth=0.5)\n",
    "b.set_xticklabels(rotation=90)\n",
    "plt.title(\"ERCC Group B\")\n",
    "b.set(ylim=(0, 2))\n",
    "b.set_axis_labels(\"ERCC genes ordered by concentration: low \\u2192 high\")\n",
    "print('Number of ERCC detected in group B (out of 23) =', bdf['Avg Mix1 CPM/ Avg Mix2 CPM'].count())"
   ]
  },
  {
   "cell_type": "markdown",
   "metadata": {},
   "source": [
    "### Create box and whisker plots of the log(2) CPM for each ERCC detected in group C in Mix 1 and Mix 2 spiked samples"
   ]
  },
  {
   "cell_type": "code",
   "execution_count": null,
   "metadata": {},
   "outputs": [],
   "source": [
    "c = sns.catplot(x=\"ERCC ID\", y=\"log2 Count per million\", order=groupC[::-1], hue=\"Mix\", data=merged_ercc[merged_ercc['ERCC ID'].isin(groupC)], kind=\"box\", col=\"ERCC group\", height=5, aspect=1, palette=sns.color_palette(['blue', 'orange']), showfliers=False)\n",
    "c.set_xticklabels(rotation=90)\n",
    "plt.text(23,2.5,\"Mix1/ Mix2 = 0.67\")"
   ]
  },
  {
   "cell_type": "markdown",
   "metadata": {},
   "source": [
    "### Create bar plot of the average Mix1 CPM / average Mix 2 CPM for group C ERCC genes (for group C we expect Mix 1 CPM / Mix 2 CPM = 0.67)"
   ]
  },
  {
   "cell_type": "code",
   "execution_count": null,
   "metadata": {},
   "outputs": [],
   "source": [
    "c = sns.catplot(x=\"ERCC ID\", y=\"Avg Mix1 CPM/ Avg Mix2 CPM\", order=groupC[::-1], palette=\"rocket_r\", data=cdf, kind=\"bar\", \n",
    "               height=5, aspect=1, linewidth=0.5)\n",
    "c.set_xticklabels(rotation=90)\n",
    "plt.title(\"ERCC Group C\")\n",
    "c.set(ylim=(0, 2))\n",
    "c.set_axis_labels(\"ERCC genes ordered by concentration: low \\u2192 high\")\n",
    "print('Number of ERCC detected in group C (out of 23) =', cdf['Avg Mix1 CPM/ Avg Mix2 CPM'].count())"
   ]
  },
  {
   "cell_type": "markdown",
   "metadata": {},
   "source": [
    "### Create box and whisker plots of the log(2) CPM for each ERCC detected in group D in Mix 1 and Mix 2 spiked samples"
   ]
  },
  {
   "cell_type": "code",
   "execution_count": null,
   "metadata": {},
   "outputs": [],
   "source": [
    "d = sns.catplot(x=\"ERCC ID\", y=\"log2 Count per million\", order=groupD[::-1], hue=\"Mix\", data=merged_ercc[merged_ercc['ERCC ID'].isin(groupD)], col=\"ERCC group\", kind=\"box\", height=5, aspect=1, palette=sns.color_palette(['blue', 'orange']), showfliers=False)\n",
    "d.set_xticklabels(rotation=90)\n",
    "plt.text(23,2.5,\"Mix1/ Mix2 = 0.5\")"
   ]
  },
  {
   "cell_type": "markdown",
   "metadata": {},
   "source": [
    "### Create bar plot of the average Mix1 CPM / average Mix 2 CPM for group D ERCC genes (for group D we expect Mix 1 CPM / Mix 2 CPM = 0.5)"
   ]
  },
  {
   "cell_type": "code",
   "execution_count": null,
   "metadata": {},
   "outputs": [],
   "source": [
    "d = sns.catplot(x=\"ERCC ID\", y=\"Avg Mix1 CPM/ Avg Mix2 CPM\", order=groupD[::-1], palette=\"rocket_r\", data=ddf, kind=\"bar\", \n",
    "               height=5, aspect=1, linewidth=0.5)\n",
    "d.set_xticklabels(rotation=90)\n",
    "plt.title(\"ERCC Group D\")\n",
    "d.set(ylim=(0, 1))\n",
    "d.set_axis_labels(\"ERCC genes ordered by concentration: low \\u2192 high\")\n",
    "print('Number of ERCC detected in group D (out of 23) =', ddf['Avg Mix1 CPM/ Avg Mix2 CPM'].count())"
   ]
  },
  {
   "cell_type": "markdown",
   "metadata": {},
   "source": [
    "## Individual sample ERCC analyses\n",
    "\n",
    "Calculate and plot ERCC metrics from individual samples, including limit of detection, dynamic range, and R^2 of counts vs. concentration."
   ]
  },
  {
   "cell_type": "code",
   "execution_count": null,
   "metadata": {},
   "outputs": [],
   "source": [
    "#Calculate and plot ERCC metrics from individual samples, including limit of detection, dynamic range, and R^2 of counts vs. concentration.\n",
    "print(ercc_table.head(n=3))\n",
    "\n",
    "# Make a dictionary for ERCC concentrations for each mix\n",
    "\n",
    "mix1_conc_dict = dict(zip(ercc_table['ERCC ID'], ercc_table['concentration in Mix 1 (attomoles/ul)']))\n",
    "mix2_conc_dict = dict(zip(ercc_table['ERCC ID'], ercc_table['concentration in Mix 2 (attomoles/ul)']))\n",
    "\n",
    "# Check assay_table header to identify the 'Sample Name' column and the column title indicating the 'Spike-in Mix Nmber' if it's indicated in the metadata.\n",
    "\n",
    "pd.set_option('display.max_columns', None)\n",
    "print(assay_table.head(n=3))\n",
    "\n",
    "# Get samples that use mix 1 and mix 2\n",
    "\n",
    "mix1_samples = assay_table[assay_table['Parameter Value[Spike-in Mix Number]'] == 'Mix 1']['Sample Name']\n",
    "mix2_samples = assay_table[assay_table['Parameter Value[Spike-in Mix Number]'] == 'Mix 2']['Sample Name']\n",
    "\n",
    "# Get ERCC counts for all samples\n",
    "\n",
    "ercc_counts = raw_counts_table[raw_counts_table.index.str.contains('^ERCC-')] \n",
    "ercc_counts = ercc_counts.sort_values(by=list(ercc_counts), ascending=False)\n",
    "print(ercc_counts.head())\n",
    "\n",
    "# Get ERCC counts for Mix 1 spiked samples\n",
    "\n",
    "ercc_counts_mix_1 = ercc_counts[mix1_samples]\n",
    "ercc_counts_mix_1['ERCC conc (attomoles/ul)'] = ercc_counts_mix_1.index.map(mix1_conc_dict)\n",
    "print(ercc_counts_mix_1.head(n=3))\n",
    "\n",
    "# Get ERCC counts for Mix 2 spiked samples\n",
    "\n",
    "ercc_counts_mix_2 = ercc_counts[mix2_samples]\n",
    "ercc_counts_mix_2['ERCC conc (attomoles/ul)'] = ercc_counts_mix_2.index.map(mix2_conc_dict)\n",
    "print(ercc_counts_mix_2.head(n=3))\n",
    "\n",
    "\n",
    "# Create a scatter plot of log(2) ERCC counts versus log(2) ERCC concentration for each sample\n",
    "\n",
    "columns_mix_1 = ercc_counts_mix_1.columns.drop(['ERCC conc (attomoles/ul)'])\n",
    "columns_mix_2 = ercc_counts_mix_2.columns.drop(['ERCC conc (attomoles/ul)'])\n",
    "all_columns = columns_mix_1.to_list() + columns_mix_2.to_list()\n",
    "total_columns = len(columns_mix_1) + len(columns_mix_2) \n",
    "side_size = np.int32(np.ceil(np.sqrt(total_columns)))# calculate grid side size. take sqrt of total plots and round up.\n",
    "fig, axs = plt.subplots(side_size, side_size, figsize=(22,26), sharex='all', sharey='all'); #change figsize x,y labels if needed.\n",
    "fig.tight_layout(pad=1, w_pad=2.5, h_pad=3.5)\n",
    "\n",
    "# Iterate over subplot positions, if subplot does not have data, hide the subplot with ax.set_visible(False)\n",
    "\n",
    "for i in range(side_size):\n",
    "    for j in range(side_size):\n",
    "        ax = axs[i, j]\n",
    "        index = i * side_size + j\n",
    "\n",
    "        if index < total_columns:\n",
    "            if index < len(columns_mix_1):\n",
    "                ax.scatter(x=np.log2(ercc_counts_mix_1['ERCC conc (attomoles/ul)']), y=np.log2(ercc_counts_mix_1[all_columns[index]]+1), s=7)\n",
    "                ax.set_title(all_columns[index][-45:], fontsize=9)\n",
    "            else:\n",
    "                ax.scatter(x=np.log2(ercc_counts_mix_2['ERCC conc (attomoles/ul)']), y=np.log2(ercc_counts_mix_2[all_columns[index]]+1), s=7)\n",
    "                ax.set_title(all_columns[index][-45:], fontsize=9)\n",
    "\n",
    "            ax.set_xlabel('log2 ERCC conc (attomoles/ ul)', fontsize=9)\n",
    "            ax.set_ylabel('log2 Counts per million', fontsize=9)\n",
    "            ax.tick_params(direction='in', axis='both', labelsize=9, labelleft=True, labelbottom=True)\n",
    "        else:\n",
    "            ax.set_visible(False)  # Hide the subplot if it's not needed\n",
    "\n",
    "plt.show()"
   ]
  },
  {
   "cell_type": "markdown",
   "metadata": {},
   "source": [
    "## Calculate and plot linear regression of log(2) ERCC counts versus log(2) ERCC concentration for each sample"
   ]
  },
  {
   "cell_type": "code",
   "execution_count": null,
   "metadata": {},
   "outputs": [],
   "source": [
    "# Filter counts > 0\n",
    "\n",
    "nonzero_counts_list_1 = []\n",
    "for i in range(0, len(ercc_counts_mix_1.columns)-1):\n",
    "  counts = ercc_counts_mix_1[columns_mix_1[i]]\n",
    "  counts.index.rename('Gene_ID', inplace=True)\n",
    "  countsdf = pd.DataFrame(counts)\n",
    "  nonzero_counts = countsdf[ercc_counts_mix_1[columns_mix_1[i]] > 0.0]\n",
    "  nonzero_counts['Conc'] = nonzero_counts.index.map(mix1_conc_dict)\n",
    "  nonzero_counts.columns = ['Counts','Conc']\n",
    "  nonzero_counts_sorted = nonzero_counts.sort_values('Conc')\n",
    "  nonzero_counts_list_1.append(nonzero_counts_sorted)\n",
    "\n",
    "nonzero_counts_list_2 = []\n",
    "for i in range(0, len(ercc_counts_mix_2.columns)-1):\n",
    "  counts = ercc_counts_mix_2[columns_mix_2[i]]\n",
    "  counts.index.rename('Gene_ID', inplace=True)\n",
    "  countsdf = pd.DataFrame(counts)\n",
    "  nonzero_counts = countsdf[ercc_counts_mix_2[columns_mix_2[i]] > 0.0]\n",
    "  nonzero_counts['Conc'] = nonzero_counts.index.map(mix2_conc_dict)\n",
    "  nonzero_counts.columns = ['Counts','Conc']\n",
    "  nonzero_counts_sorted = nonzero_counts.sort_values('Conc')\n",
    "  nonzero_counts_list_2.append(nonzero_counts_sorted)\n",
    "\n",
    "\n",
    "# Plot each sample using linear regression of scatter plot with x = log2 Conc and y = log2 Counts.\n",
    "# Return min, max, R^2 and dynamic range (max / min) values.\n",
    "\n",
    "samples = []\n",
    "mins = []\n",
    "maxs = []\n",
    "dyranges = []\n",
    "rs = []\n",
    "\n",
    "fig, axs = plt.subplots(side_size, side_size, figsize=(22,26), sharex='all', sharey='all');\n",
    "fig.tight_layout(pad=1, w_pad=2.5, h_pad=3.5)\n",
    "\n",
    "counter = 0\n",
    "list2counter = 0\n",
    "for i in range(side_size):\n",
    "    for j in range(side_size):\n",
    "        ax = axs[i, j]\n",
    "        index = i * side_size + j\n",
    "\n",
    "        if index < len(columns_mix_1):\n",
    "            nonzero_counts = nonzero_counts_list_1[index]\n",
    "            xvalues = nonzero_counts['Conc']\n",
    "            yvalues = nonzero_counts['Counts']\n",
    "\n",
    "            if len(xvalues) > 0:\n",
    "                sns.regplot(x=np.log2(xvalues), y=np.log2(yvalues), ax=ax)\n",
    "                ax.set_title(all_columns[index][-47:], fontsize=9)\n",
    "                ax.set_xlabel('log2 Conc (attomoles/ul)', fontsize=9)\n",
    "                ax.set_ylabel('log2 Counts per million', fontsize=9)\n",
    "                ax.tick_params(direction='in', axis='both', labelsize=9, labelleft=True, labelbottom=True)\n",
    "                samples.append(all_columns[index])\n",
    "\n",
    "                min_val = xvalues.min()\n",
    "                max_val = xvalues.max()\n",
    "                dynamic_range = max_val / min_val\n",
    "                slope, intercept, r_value, p_value, std_err = linregress(np.log2(xvalues), np.log2(yvalues))\n",
    "\n",
    "                ax.text(0.02, 0.98, f'Min:{min_val:.1f}', verticalalignment='top', horizontalalignment='left', transform=ax.transAxes, color='black', fontsize=10)\n",
    "                ax.text(0.02, 0.88, f'Max:{max_val:.1f}', verticalalignment='top', horizontalalignment='left', transform=ax.transAxes, color='black', fontsize=10)\n",
    "                ax.text(0.02, 0.78, f'Dyn:{dynamic_range:.1f}', verticalalignment='top', horizontalalignment='left', transform=ax.transAxes, color='black', fontsize=10)\n",
    "                ax.text(0.02, 0.68, f'R:{r_value:.2f}', verticalalignment='top', horizontalalignment='left', transform=ax.transAxes, color='black', fontsize=10)\n",
    "\n",
    "                mins.append(min_val)\n",
    "                maxs.append(max_val)\n",
    "                dyranges.append(dynamic_range)\n",
    "                rs.append(r_value)\n",
    "            else:\n",
    "                ax.set_visible(False)\n",
    "\n",
    "        elif index < total_columns:\n",
    "            nonzero_counts = nonzero_counts_list_2[list2counter]\n",
    "            xvalues = nonzero_counts['Conc']\n",
    "            yvalues = nonzero_counts['Counts']\n",
    "\n",
    "            if len(xvalues) > 0:\n",
    "                sns.regplot(x=np.log2(xvalues), y=np.log2(yvalues), ax=ax)\n",
    "                ax.set_title(all_columns[index][-47:], fontsize=9)\n",
    "                ax.set_xlabel('log2 Conc (attomoles/ul)', fontsize=9)\n",
    "                ax.set_ylabel('log2 Counts per million', fontsize=9)\n",
    "                ax.tick_params(direction='in', axis='both', labelsize=9, labelleft=True, labelbottom=True)\n",
    "                samples.append(all_columns[index])\n",
    "\n",
    "                min_val = xvalues.min()\n",
    "                max_val = xvalues.max()\n",
    "                dynamic_range = max_val / min_val\n",
    "                slope, intercept, r_value, p_value, std_err = linregress(np.log2(xvalues), np.log2(yvalues))\n",
    "\n",
    "                ax.text(0.02, 0.98, f'Min:{min_val:.1f}', verticalalignment='top', horizontalalignment='left', transform=ax.transAxes, color='black', fontsize=10)\n",
    "                ax.text(0.02, 0.88, f'Max:{max_val:.1f}', verticalalignment='top', horizontalalignment='left', transform=ax.transAxes, color='black', fontsize=10)\n",
    "                ax.text(0.02, 0.78, f'Dyn:{dynamic_range:.1f}', verticalalignment='top', horizontalalignment='left', transform=ax.transAxes, color='black', fontsize=10)\n",
    "                ax.text(0.02, 0.68, f'R:{r_value:.2f}', verticalalignment='top', horizontalalignment='left', transform=ax.transAxes, color='black', fontsize=10)\n",
    "\n",
    "                mins.append(min_val)\n",
    "                maxs.append(max_val)\n",
    "                dyranges.append(dynamic_range)\n",
    "                rs.append(r_value)\n",
    "            else:\n",
    "                ax.set_visible(False)\n",
    "\n",
    "            list2counter += 1\n",
    "        else:\n",
    "            ax.set_visible(False)\n",
    "\n",
    "plt.show()\n"
   ]
  },
  {
   "cell_type": "code",
   "execution_count": null,
   "metadata": {},
   "outputs": [],
   "source": [
    "# Create directory for saved files\n",
    "\n",
    "import os\n",
    "os.makedirs(name=\"ERCC_analysis\", exist_ok=True)"
   ]
  },
  {
   "cell_type": "code",
   "execution_count": null,
   "metadata": {},
   "outputs": [],
   "source": [
    "# Print tables containing the dynamic range and R^2 values for each sample.\n",
    "# Remember to change file names to GLDS# analyzing\n",
    "\n",
    "stats = pd.DataFrame(list(zip(samples, mins, maxs, dyranges, rs)))\n",
    "stats.columns = ['Samples', 'Min', 'Max', 'Dynamic range', 'R']\n",
    "stats.to_csv(f'ERCC_analysis/ERCC_stats_{accession}_GLbulkRNAseq.csv', index = False)\n",
    "stats.filter(items = ['Samples', 'Dynamic range']).to_csv(f'ERCC_analysis/ERCC_dynrange_{accession}_mqc_GLbulkRNAseq.csv', index = False)\n",
    "stats.filter(items = ['Samples', 'R']).to_csv(f'ERCC_analysis/ERCC_rsq_{accession}_mqc_GLbulkRNAseq.csv', index = False)\n"
   ]
  },
  {
   "cell_type": "markdown",
   "metadata": {},
   "source": [
    "## Generate data and metadata files needed for ERCC DESeq2 analysis"
   ]
  },
  {
   "cell_type": "code",
   "execution_count": null,
   "metadata": {},
   "outputs": [],
   "source": [
    "# ERCC Mix 1 and Mix 2 are distributed so that half the samples receive Mix 1 spike-in and half receive Mix 2 spike-in. Transcripts in Mix 1 and Mix 2 are present at a known ratio, so we can determine how well these patterns are revealed in the dataset.\n",
    "\n",
    "# Get sample table\n",
    "\n",
    "combined = sample_table.merge(assay_table, on='Sample Name')\n",
    "combined = combined.set_index(combined['Sample Name'])\n",
    "pd.set_option('display.max_columns', None)\n",
    "print(combined)\n",
    "\n",
    "# Create metadata table containing samples and their respective ERCC spike-in Mix number\n",
    "# Sometimes Number in [Spike-in Mix Number] is spelled 'number' and this could cause error in mismatch search \n",
    "\n",
    "ERCCmetadata = combined[['Parameter Value[Spike-in Mix Number]']]\n",
    "ERCCmetadata.index = ERCCmetadata.index.str.replace('-','_')\n",
    "ERCCmetadata.columns = ['Mix']\n",
    "#ERCCmetadata = ERCCmetadata.rename(columns={'Parameter Value[Spike-in Mix Number]':'Mix'})\n",
    "print(ERCCmetadata)\n",
    "\n",
    "# Export ERCC sample metadata\n",
    "\n",
    "ERCCmetadata.to_csv('ERCC_analysis/ERCCmetadata_GLbulkRNAseq.csv') \n",
    "\n",
    "# Export ERCC count data\n",
    "\n",
    "ercc_counts.columns = ercc_counts.columns.str.replace('-','_')\n",
    "ERCCcounts = ercc_counts.loc[:,ERCCmetadata.index]\n",
    "ERCCcounts.head()\n",
    "\n",
    "ERCCcounts.to_csv('ERCC_analysis/ERCCcounts_GLbulkRNAseq.csv') "
   ]
  },
  {
   "cell_type": "markdown",
   "metadata": {},
   "source": [
    "# Step 2: Perform DESeq2 Analysis of ERCC Counts in R"
   ]
  },
  {
   "cell_type": "markdown",
   "metadata": {
    "vscode": {
     "languageId": "r"
    }
   },
   "source": [
    "## Install R packages if not already installed\n"
   ]
  },
  {
   "cell_type": "code",
   "execution_count": null,
   "metadata": {
    "vscode": {
     "languageId": "r"
    }
   },
   "outputs": [],
   "source": [
    "if (!requireNamespace(\"BiocManager\", quietly = TRUE))\n",
    "    install.packages(\"BiocManager\")"
   ]
  },
  {
   "cell_type": "code",
   "execution_count": null,
   "metadata": {
    "vscode": {
     "languageId": "r"
    }
   },
   "outputs": [],
   "source": [
    "BiocManager::install(\"DESeq2\")\n",
    "\n",
    "## Import DESeq2 library\n",
    "\n",
    "library(\"DESeq2\")"
   ]
  },
  {
   "cell_type": "markdown",
   "metadata": {},
   "source": [
    "## Import and format ERCC count data and metadata"
   ]
  },
  {
   "cell_type": "code",
   "execution_count": null,
   "metadata": {
    "vscode": {
     "languageId": "r"
    }
   },
   "outputs": [],
   "source": [
    "cts <- as.matrix(read.csv('ERCC_analysis/ERCCcounts_GLbulkRNAseq.csv',sep=\",\",row.names=\"Gene_ID\")) #INPUT\n",
    "coldata <- read.csv('ERCC_analysis/ERCCmetadata_GLbulkRNAseq.csv', row.names=1) #INPUT\n",
    "\n",
    "coldata$Mix <- factor(coldata$Mix)\n",
    "all(rownames(coldata) == colnames(cts))"
   ]
  },
  {
   "cell_type": "markdown",
   "metadata": {},
   "source": [
    "## Make DESeqDataSet object"
   ]
  },
  {
   "cell_type": "code",
   "execution_count": null,
   "metadata": {
    "vscode": {
     "languageId": "r"
    }
   },
   "outputs": [],
   "source": [
    "dds <- DESeqDataSetFromMatrix(countData = cts,\n",
    "                              colData = coldata,\n",
    "                              design = ~ Mix)\n",
    "dds"
   ]
  },
  {
   "cell_type": "markdown",
   "metadata": {},
   "source": [
    "## Filter out ERCC genes with counts of less than 10 in all samples #####"
   ]
  },
  {
   "cell_type": "code",
   "execution_count": null,
   "metadata": {
    "vscode": {
     "languageId": "r"
    }
   },
   "outputs": [],
   "source": [
    "keepGenes <- rowSums(counts(dds)) > 10\n",
    "dds <- dds[keepGenes,]\n",
    "\n",
    "dds"
   ]
  },
  {
   "cell_type": "markdown",
   "metadata": {},
   "source": [
    "## Run DESeq2 analysis and calculate results"
   ]
  },
  {
   "cell_type": "code",
   "execution_count": null,
   "metadata": {
    "vscode": {
     "languageId": "r"
    }
   },
   "outputs": [],
   "source": [
    "## Try first to use the default type=\"median\", but if there is an error (usually due to zeros in genes), use type=\"poscounts\"\n",
    "## From DESeq2 manual: \"The \"poscounts\" estimator deals with a gene with some zeros, by calculating a modified geometric mean by taking the n-th root of the product of the non-zero counts.\"\n",
    "dds <- tryCatch(\n",
    "      expr = { estimateSizeFactors(dds) },\n",
    "      error = function(e) { estimateSizeFactors(dds, type=\"poscounts\")}\n",
    ")\n",
    "\n",
    "dds <- DESeq(dds)\n",
    "res <- results(dds, contrast=c(\"Mix\",\"Mix 1\",\"Mix 2\")) # remove space before mix number if needed\n",
    "res"
   ]
  },
  {
   "cell_type": "markdown",
   "metadata": {},
   "source": [
    "## Export DESeq2 results table and normalized ERCC counts table"
   ]
  },
  {
   "cell_type": "code",
   "execution_count": null,
   "metadata": {
    "vscode": {
     "languageId": "r"
    }
   },
   "outputs": [],
   "source": [
    "write.csv(res, 'ERCC_analysis/ERCC_DESeq2_GLbulkRNAseq.csv') #OUTPUT\n",
    "normcounts = counts(dds, normalized=TRUE)\n",
    "write.csv(normcounts, 'ERCC_analysis/ERCC_normcounts_GLbulkRNAseq.csv') #OUTPUT"
   ]
  },
  {
   "cell_type": "markdown",
   "metadata": {},
   "source": [
    "# Step 3:  Analyze ERCC DESeq2 Results in Python"
   ]
  },
  {
   "cell_type": "markdown",
   "metadata": {},
   "source": [
    "## Import python packages\n"
   ]
  },
  {
   "cell_type": "code",
   "execution_count": null,
   "metadata": {},
   "outputs": [],
   "source": [
    "import pandas as pd\n",
    "from urllib.request import urlopen, quote, urlretrieve\n",
    "import seaborn as sns\n",
    "import matplotlib.pyplot as plt\n",
    "\n",
    "accession = 'GLDS-NNN' # Replace Ns with GLDS number"
   ]
  },
  {
   "cell_type": "markdown",
   "metadata": {},
   "source": [
    "## Import ERCC DESeq2 results"
   ]
  },
  {
   "cell_type": "code",
   "execution_count": null,
   "metadata": {},
   "outputs": [],
   "source": [
    "deseq2out = pd.read_csv('ERCC_analysis/ERCC_DESeq2_GLbulkRNAseq.csv', index_col=0) # INPUT\n",
    "#deseq2out.index = deseq2out.index.str.replace('_','-')\n",
    "deseq2out.rename(columns ={'baseMean' : 'meanNormCounts'}, inplace = True)\n",
    "print(deseq2out.head())"
   ]
  },
  {
   "cell_type": "markdown",
   "metadata": {},
   "source": [
    "## Get files containing ERCC gene concentrations and metadata"
   ]
  },
  {
   "cell_type": "code",
   "execution_count": null,
   "metadata": {},
   "outputs": [],
   "source": [
    "ercc_url = 'https://assets.thermofisher.com/TFS-Assets/LSG/manuals/cms_095046.txt'\n",
    "ercc_table = pd.read_csv(ercc_url, sep='\\t', index_col='ERCC ID')\n",
    "print(ercc_table.head(n=3))"
   ]
  },
  {
   "cell_type": "markdown",
   "metadata": {},
   "source": [
    "## Combine ERCC DESeq2 results and ercc_table"
   ]
  },
  {
   "cell_type": "code",
   "execution_count": null,
   "metadata": {},
   "outputs": [],
   "source": [
    "combined = deseq2out.merge(ercc_table, left_index=True, right_index=True)\n",
    "print(combined.head())"
   ]
  },
  {
   "cell_type": "markdown",
   "metadata": {},
   "source": [
    "## Filter p-value and adj. p-value cutoff at 10^-3"
   ]
  },
  {
   "cell_type": "code",
   "execution_count": null,
   "metadata": {},
   "outputs": [],
   "source": [
    "combined['cleaned_padj'] = combined['padj']\n",
    "combined.loc[(combined.cleaned_padj < 0.001),'cleaned_padj']=0.001\n",
    "\n",
    "combined['cleaned_pvalue'] = combined['pvalue']\n",
    "combined.loc[(combined.cleaned_pvalue < 0.001),'cleaned_pvalue']=0.001\n",
    "\n",
    "print(combined.head())"
   ]
  },
  {
   "cell_type": "markdown",
   "metadata": {},
   "source": [
    "## Export the filtered combined ERCC DESeq2 results and ercc_table\n",
    "### Remember to change file name to GLDS# analyzing\n"
   ]
  },
  {
   "cell_type": "code",
   "execution_count": null,
   "metadata": {},
   "outputs": [],
   "source": [
    "combined.filter(items = ['ERCC ID', 'meanNormCounts', 'cleaned_pvalue','cleaned_padj']).to_csv(f'ERCC_analysis/ERCC_lodr_{accession}_mqc_GLbulkRNAseq.csv') "
   ]
  },
  {
   "cell_type": "markdown",
   "metadata": {},
   "source": [
    "## Plot p-value vs. mean normalized ERCC counts\n"
   ]
  },
  {
   "cell_type": "code",
   "execution_count": null,
   "metadata": {},
   "outputs": [],
   "source": [
    "fig, ax = plt.subplots(figsize=(10, 7))\n",
    "\n",
    "sns.scatterplot(data=combined, x=\"meanNormCounts\", y=\"cleaned_pvalue\",\n",
    "            hue=\"expected fold-change ratio\",\n",
    "                palette=['red','green','black','blue'], ax=ax)\n",
    "\n",
    "sns.lineplot(data=combined, x=\"meanNormCounts\", y=\"cleaned_pvalue\",\n",
    "            hue=\"expected fold-change ratio\",\n",
    "                palette=['red','green','black','blue'], ax=ax)\n",
    "\n",
    "#g.set_xscale(\"log\", base=2)\n",
    "ax.set_xscale(\"linear\");\n",
    "ax.set_yscale(\"log\");\n"
   ]
  },
  {
   "cell_type": "markdown",
   "metadata": {},
   "source": [
    "## Plot Adjp-value vs. mean normalized ERCC counts"
   ]
  },
  {
   "cell_type": "code",
   "execution_count": null,
   "metadata": {},
   "outputs": [],
   "source": [
    "fig, ax = plt.subplots(figsize=(10, 7))\n",
    "\n",
    "sns.scatterplot(data=combined, x=\"meanNormCounts\", y=\"cleaned_padj\",\n",
    "            hue=\"expected fold-change ratio\",\n",
    "                palette=['red','green','black','blue'], ax=ax)\n",
    "\n",
    "sns.lineplot(data=combined, x=\"meanNormCounts\", y=\"cleaned_padj\",\n",
    "            hue=\"expected fold-change ratio\",\n",
    "                palette=['red','green','black','blue'], ax=ax)\n",
    "\n",
    "#g.set_xscale(\"log\", base=2)\n",
    "ax.set_xscale(\"linear\");\n",
    "ax.set_yscale(\"log\");"
   ]
  }
 ],
 "metadata": {
  "kernelspec": {
   "display_name": "Python 3",
   "language": "python",
   "name": "python3"
  },
  "language_info": {
   "codemirror_mode": {
    "name": "ipython",
    "version": 3
   },
   "file_extension": ".py",
   "mimetype": "text/x-python",
   "name": "python",
   "nbconvert_exporter": "python",
   "pygments_lexer": "ipython3",
   "version": "3.8.10 (default, Mar 15 2022, 12:22:08) \n[GCC 9.4.0]"
  },
  "vscode": {
   "interpreter": {
    "hash": "916dbcbb3f70747c44a77c7bcd40155683ae19c65e1c03b4aa3499c5328201f1"
   }
  }
 },
 "nbformat": 4,
 "nbformat_minor": 2
}
